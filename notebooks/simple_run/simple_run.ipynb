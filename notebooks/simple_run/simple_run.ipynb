{
 "cells": [
  {
   "cell_type": "markdown",
   "metadata": {},
   "source": [
    "# Single run Lennard-Jones simulation\n",
    "\n",
    "Here we demo how to run a single simulation, and the sort of information you get out of it.  Larger simulations will be built out of many runs over a range of density and temperature parameters."
   ]
  },
  {
   "cell_type": "markdown",
   "metadata": {},
   "source": [
    "## Running the simulation\n",
    "\n",
    "For running the actual simulation, the only dependency is the `lennardjones` package.  One could also use `numpy` as a source of random seeds, but `lennardjones` already exposes the C++ `std::random_device` seed generator, which is good enough for physics simulations."
   ]
  },
  {
   "cell_type": "code",
   "execution_count": null,
   "metadata": {},
   "outputs": [],
   "source": [
    "import lennardjonesium as lj"
   ]
  },
  {
   "cell_type": "markdown",
   "metadata": {},
   "source": [
    "### Setup\n",
    "\n",
    "First, we will create an `lj.Configuration` object.  This is a `dataclass` which simply contains the various parameters of the simulation.  We will write it to a file so that the information is easy to recall, in case we want to repeat the experiment."
   ]
  },
  {
   "cell_type": "code",
   "execution_count": null,
   "metadata": {},
   "outputs": [],
   "source": [
    "c = lj.Configuration()\n",
    "\n",
    "c.system.temperature = 0.5\n",
    "c.system.density = 0.8\n",
    "c.system.particle_count = 500\n",
    "c.system.cutoff_distance = 2.5\n",
    "c.system.time_delta = 0.005\n",
    "c.system.random_seed = 42\n",
    "\n",
    "c.equilibration.tolerance = 0.10\n",
    "c.equilibration.sample_size = 50\n",
    "c.equilibration.adjustment_interval = 50\n",
    "c.equilibration.steady_state_time = 500\n",
    "c.equilibration.timeout = 2000\n",
    "\n",
    "c.observation.tolerance = 0.20\n",
    "c.observation.sample_size = 50\n",
    "c.observation.observation_interval = 50\n",
    "c.observation.observation_count = 20\n",
    "\n",
    "c.filepaths.event_log = 'events.log'\n",
    "c.filepaths.thermodynamic_log = 'thermodynamics.csv'\n",
    "c.filepaths.observation_log = 'observations.csv'\n",
    "c.filepaths.snapshot_log = 'snapshots.csv'\n",
    "\n",
    "c.write('data/run.ini')"
   ]
  },
  {
   "cell_type": "markdown",
   "metadata": {},
   "source": [
    "### Using the `run()` function"
   ]
  },
  {
   "cell_type": "markdown",
   "metadata": {},
   "source": [
    "Next, load the `.ini` file and run the simulation.  I've chosen a specific random seed because it produces an interesting result.  To use a newly-generated random seed, you can write\n",
    "\n",
    "`random_seed=lj.SeedGenerator().get`\n",
    "\n",
    "instead, or provide your own function (or one from `numpy`)."
   ]
  },
  {
   "cell_type": "code",
   "execution_count": null,
   "metadata": {},
   "outputs": [],
   "source": [
    "result = lj.run('data/run.ini', random_seed=117208264)"
   ]
  },
  {
   "cell_type": "markdown",
   "metadata": {},
   "source": [
    "Here we just check how much data was written.  For this small example, I want to put the entire `data/` directory on GitHub, so I wanted to make sure it was not too large."
   ]
  },
  {
   "cell_type": "code",
   "execution_count": null,
   "metadata": {},
   "outputs": [],
   "source": [
    "import os\n",
    "_ = os.system('du -sh data')"
   ]
  },
  {
   "cell_type": "markdown",
   "metadata": {},
   "source": [
    "## Analysing the output\n",
    "\n",
    "Now let's load the data we've created and visualize it.  First we need some additional packages:"
   ]
  },
  {
   "cell_type": "code",
   "execution_count": null,
   "metadata": {},
   "outputs": [],
   "source": [
    "import pandas as pd\n",
    "from mpl_toolkits import mplot3d\n",
    "pd.plotting.register_matplotlib_converters()\n",
    "import matplotlib.pyplot as plt\n",
    "import seaborn as sns"
   ]
  },
  {
   "cell_type": "markdown",
   "metadata": {},
   "source": [
    "The data is output conveniently in `.csv` format, making it easy to load into `pandas`.  The `snapshots.csv` file is special, however: it uses multi-indexing, and requires the additional `header=` argument to load it properly."
   ]
  },
  {
   "cell_type": "code",
   "execution_count": null,
   "metadata": {},
   "outputs": [],
   "source": [
    "thermoynamic_data = pd.read_csv(\"data/thermodynamics.csv\")\n",
    "observation_data = pd.read_csv(\"data/observations.csv\")\n",
    "snapshot_data = pd.read_csv(\"data/snapshots.csv\", header=[0,1])"
   ]
  },
  {
   "cell_type": "markdown",
   "metadata": {},
   "source": [
    "### Visualization of the simulation process"
   ]
  },
  {
   "cell_type": "markdown",
   "metadata": {},
   "source": [
    "Let's start by looking at what happens in the simulation over time.  The most informative thing to plot is the total energy:"
   ]
  },
  {
   "cell_type": "code",
   "execution_count": null,
   "metadata": {},
   "outputs": [],
   "source": [
    "plt.figure(figsize=(16,6))\n",
    "plt.title(\"Energy vs time\")\n",
    "sns.lineplot(data=thermoynamic_data['TotalEnergy'])\n",
    "plt.show()"
   ]
  },
  {
   "cell_type": "markdown",
   "metadata": {},
   "source": [
    "We see a number of interesting features.  First of all, aside from a few \"jumps\" at the beginning, the total energy is roughly *constant* (it does actually have small fluctuations, but these are not visible at this scale).  This is good, because we are simulating a closed system at constant total energy, and we were careful to choose a symplectic integrator so that the energy should remain close to constant.  So, this plot reveals that the symplectic integrator is working.\n",
    "\n",
    "As for the \"jumps\" at the beginning, those happen during the Equilibration phase of the simulation.  We try to initialize the simulation with a Maxwell distribution of velocities at the correct temperature; however, this process is not perfect, and there will initially be quite a lot of temperature drift.  During the Equilibration phase, we periodically measure the temperature of the system and adjust it by globally rescaling all velocities.  Eventually, the system should settle down and remain within our given temperature tolerance for a sufficiently long amount of time.  At that point, the Equilibration phase ends, and we move on to the Observation phase, where we can measure relevant quantities for equilibrium physics.\n",
    "\n",
    "We can get further insight into this initial temperature drift by plotting the temperature of the system over time:"
   ]
  },
  {
   "cell_type": "code",
   "execution_count": null,
   "metadata": {},
   "outputs": [],
   "source": [
    "plt.figure(figsize=(16,6))\n",
    "plt.title(\"Temperature vs time\")\n",
    "sns.lineplot(data=thermoynamic_data['Temperature'])\n",
    "plt.show()"
   ]
  },
  {
   "cell_type": "markdown",
   "metadata": {},
   "source": [
    "As you can see, the temperature near the beginning tries to fall below the initial value, and needs to be corrected a few times.  Once we've reached \"equilibrium\", we can also see that the temperature continues to drift slowly downwards.  For the sake of simulation speed (i.e., time taken to reach equilibrium), we have chosen a fairly wide temperature tolerance.  But it is obvious from this graph that we are not close enough to equilibrium to make valid measurements in this demo experiment."
   ]
  },
  {
   "cell_type": "markdown",
   "metadata": {},
   "source": [
    "### Physical observations"
   ]
  },
  {
   "cell_type": "markdown",
   "metadata": {},
   "source": [
    "Next let's try to get an understanding of the physics.  We chose to simulate the Lennard-Jones system at a density of 0.8 and a temperature of 0.5 in reduced units.  I chose these values because they are very close to a triple point, which gives us something interesting to talk about.  \n",
    "\n",
    "For a single simulation like this, we would like to understand a basic question like \"Is the system in a solid or fluid state?\"  A nice way to answer this question is to look at the mean square displacement:"
   ]
  },
  {
   "cell_type": "code",
   "execution_count": null,
   "metadata": {},
   "outputs": [],
   "source": [
    "plt.figure(figsize=(16,6))\n",
    "plt.title(\"Mean Square Displacement vs time\")\n",
    "sns.lineplot(data=thermoynamic_data['MeanSquareDisplacement'])\n",
    "plt.show()"
   ]
  },
  {
   "cell_type": "markdown",
   "metadata": {},
   "source": [
    "This mean square displacement actually exhibits very strange behavior!  We should ignore the first part of it, since that was during the Equilibration phase and is not properly part of the experiment.  But after the initial settling, we see that the mean square displacement alternates between being rougly flat, or increasing linearly.\n",
    "\n",
    "Of course, the mean square displacement being flat is an indicator that atoms are staying still (i.e., a solid phase), whereas linearly increasing means that the atoms are engaged in diffusion (i.e., a fluid phase).  It appears that the atoms in this simulation are constantly freezing and then melting again: a telltale sign that we are sitting at a phase transition point!"
   ]
  },
  {
   "cell_type": "markdown",
   "metadata": {},
   "source": [
    "Let's also take a look at the pressure.  In this simulation, we have taken 20 pressure measurements, obtained by averaging several physical properties over some given sliding time window over the course of the simulation:"
   ]
  },
  {
   "cell_type": "code",
   "execution_count": null,
   "metadata": {},
   "outputs": [],
   "source": [
    "plt.figure(figsize=(16,6))\n",
    "plt.title(\"Pressure\")\n",
    "sns.lineplot(data=observation_data['Pressure'])\n",
    "plt.show()"
   ]
  },
  {
   "cell_type": "markdown",
   "metadata": {},
   "source": [
    "We see that the pressure is *negative*, which suggests that the atoms are not dispersing to fill their \"container\".  Therefore we should conclude that during the times when this simulation exhibits fluid behavior, it is behaving as a *liquid*, since a gas would not support negative pressure."
   ]
  },
  {
   "cell_type": "markdown",
   "metadata": {},
   "source": [
    "### Visualizing the final state"
   ]
  },
  {
   "cell_type": "markdown",
   "metadata": {},
   "source": [
    "The simulation also records the final state in a `snapshots.csv` file.  In principle, the format of this file could allow us to store several snapshots.  In practice, it would be an impractical amount of data, so we only store the final state.  In any case, this allows us to *look* at the system and understand what's going on.\n",
    "\n",
    "Here is what the snapshots file looks like:"
   ]
  },
  {
   "cell_type": "code",
   "execution_count": null,
   "metadata": {},
   "outputs": [],
   "source": [
    "snapshot_data.head(10)"
   ]
  },
  {
   "cell_type": "markdown",
   "metadata": {},
   "source": [
    "Finally, let's plot the positions of the particles in three dimensions, to get an idea what is going on in this system:"
   ]
  },
  {
   "cell_type": "code",
   "execution_count": null,
   "metadata": {},
   "outputs": [],
   "source": [
    "fig = plt.figure(figsize=(12, 12))\n",
    "ax = fig.add_subplot(projection='3d')\n",
    "\n",
    "ax.scatter3D(\n",
    "    snapshot_data[('Position', 'X')],\n",
    "    snapshot_data[('Position', 'Y')],\n",
    "    snapshot_data[('Position', 'Z')],\n",
    "    c=snapshot_data[('Position', 'Z')],\n",
    "    cmap='hsv',\n",
    "    s=10\n",
    ")\n",
    "\n",
    "plt.show()"
   ]
  },
  {
   "cell_type": "markdown",
   "metadata": {},
   "source": [
    "We see that the atoms seem more or less randomly arranged, so this lins up with our earlier conclusion that we are in a fluid state (near the end of the simulation, the mean square displacement is growing linearly, rather than holding flat).  We also see that the atoms are *not* evenly dispersed, but appear to have left \"gaps\", which explains the negative pressure measurements.  The attractive Lennard-Jones force in this temperature-density regime is not quite strong enough to hold the particles in a lattice, but it is strong enough to prevent them from filling their container."
   ]
  }
 ],
 "metadata": {
  "interpreter": {
   "hash": "3226e81e891c9dc927601569adef93bbe0c99db6160ab9c266a9636799c8ecb1"
  },
  "kernelspec": {
   "display_name": "Python 3.9.7 ('.venv-conda': venv)",
   "language": "python",
   "name": "python3"
  },
  "language_info": {
   "codemirror_mode": {
    "name": "ipython",
    "version": 3
   },
   "file_extension": ".py",
   "mimetype": "text/x-python",
   "name": "python",
   "nbconvert_exporter": "python",
   "pygments_lexer": "ipython3",
   "version": "3.9.7"
  },
  "orig_nbformat": 4
 },
 "nbformat": 4,
 "nbformat_minor": 2
}

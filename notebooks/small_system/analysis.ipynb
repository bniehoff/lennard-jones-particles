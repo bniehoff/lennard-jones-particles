{
 "cells": [
  {
   "cell_type": "code",
   "execution_count": null,
   "metadata": {},
   "outputs": [],
   "source": [
    "import pathlib\n",
    "\n",
    "import numpy as np\n",
    "import pandas as pd\n",
    "from mpl_toolkits import mplot3d\n",
    "pd.plotting.register_matplotlib_converters()\n",
    "import matplotlib.pyplot as plt\n",
    "import seaborn as sns\n",
    "\n",
    "import lennardjonesium as lj"
   ]
  },
  {
   "cell_type": "code",
   "execution_count": null,
   "metadata": {},
   "outputs": [],
   "source": [
    "sweep_config_file = pathlib.Path('sweep.ini')\n",
    "sweep_config = lj.SweepConfiguration.from_file(sweep_config_file)\n",
    "sweep_result = lj.orchestration.SweepResult(sweep_config_file)"
   ]
  },
  {
   "cell_type": "code",
   "execution_count": null,
   "metadata": {},
   "outputs": [],
   "source": [
    "observations = pd.DataFrame()\n",
    "for simulation_dir in sweep_config.simulation_dir_range():\n",
    "    run_config = lj.Configuration.from_file(simulation_dir / sweep_config.templates.run_config_file)\n",
    "    run_observations = pd.read_csv(\n",
    "        simulation_dir / run_config.filepaths.observation_log).drop(columns=['TimeStep'])\n",
    "    observations = pd.concat([observations, run_observations])"
   ]
  },
  {
   "cell_type": "code",
   "execution_count": null,
   "metadata": {},
   "outputs": [],
   "source": [
    "fig = plt.figure(figsize=(12, 12))\n",
    "ax = fig.add_subplot(projection='3d')\n",
    "\n",
    "\n",
    "ax.scatter3D(\n",
    "    observations['Density'],\n",
    "    observations['Temperature'],\n",
    "    observations['TotalEnergy'],\n",
    "    c=observations['TotalEnergy'],\n",
    "    cmap='hsv',\n",
    "    s=10\n",
    ")\n",
    "\n",
    "ax.set_xlabel('Density')\n",
    "ax.set_ylabel('Temperature')\n",
    "ax.set_zlabel('Energy')\n",
    "ax.azim = -60\n",
    "ax.elev = 10\n",
    "\n",
    "plt.title(\"Energy vs Density, Temperature\")\n",
    "plt.show()"
   ]
  },
  {
   "cell_type": "code",
   "execution_count": null,
   "metadata": {},
   "outputs": [],
   "source": [
    "fig = plt.figure(figsize=(12, 12))\n",
    "ax = fig.add_subplot()\n",
    "\n",
    "ax.tripcolor(\n",
    "    observations['Density'],\n",
    "    observations['Temperature'],\n",
    "    observations['TotalEnergy'],\n",
    "    cmap='plasma',\n",
    ")\n",
    "\n",
    "ax.set_xlabel('Density')\n",
    "ax.set_ylabel('Temperature')\n",
    "\n",
    "plt.title(\"Energy vs Density, Temperature\")\n",
    "plt.show()"
   ]
  },
  {
   "cell_type": "code",
   "execution_count": null,
   "metadata": {},
   "outputs": [],
   "source": [
    "fig = plt.figure(figsize=(12, 12))\n",
    "ax = fig.add_subplot()\n",
    "\n",
    "ax.tripcolor(\n",
    "    observations['Density'],\n",
    "    observations['Temperature'],\n",
    "    observations['Pressure'],\n",
    "    cmap='plasma',\n",
    ")\n",
    "\n",
    "ax.set_xlabel('Density')\n",
    "ax.set_ylabel('Temperature')\n",
    "\n",
    "plt.title(\"Pressure vs Density, Temperature\")\n",
    "plt.show()"
   ]
  },
  {
   "cell_type": "code",
   "execution_count": null,
   "metadata": {},
   "outputs": [],
   "source": [
    "fig = plt.figure(figsize=(12, 12))\n",
    "ax = fig.add_subplot()\n",
    "\n",
    "ax.tripcolor(\n",
    "    observations['Density'],\n",
    "    observations['Temperature'],\n",
    "    observations['DiffusionCoefficient'],\n",
    "    cmap='plasma',\n",
    ")\n",
    "\n",
    "ax.set_xlabel('Density')\n",
    "ax.set_ylabel('Temperature')\n",
    "\n",
    "plt.title(\"Diffusivity vs Density, Temperature\")\n",
    "plt.show()"
   ]
  },
  {
   "cell_type": "code",
   "execution_count": null,
   "metadata": {},
   "outputs": [],
   "source": []
  }
 ],
 "metadata": {
  "interpreter": {
   "hash": "3226e81e891c9dc927601569adef93bbe0c99db6160ab9c266a9636799c8ecb1"
  },
  "kernelspec": {
   "display_name": "Python 3.9.7 ('.venv-conda': venv)",
   "language": "python",
   "name": "python3"
  },
  "language_info": {
   "codemirror_mode": {
    "name": "ipython",
    "version": 3
   },
   "file_extension": ".py",
   "mimetype": "text/x-python",
   "name": "python",
   "nbconvert_exporter": "python",
   "pygments_lexer": "ipython3",
   "version": "3.9.7"
  },
  "orig_nbformat": 4
 },
 "nbformat": 4,
 "nbformat_minor": 2
}

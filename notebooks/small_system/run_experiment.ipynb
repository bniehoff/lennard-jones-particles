{
 "cells": [
  {
   "cell_type": "code",
   "execution_count": 1,
   "metadata": {},
   "outputs": [],
   "source": [
    "import lennardjonesium as lj"
   ]
  },
  {
   "cell_type": "code",
   "execution_count": 34,
   "metadata": {},
   "outputs": [],
   "source": [
    "sc = lj.SweepConfiguration()\n",
    "\n",
    "sc.system.temperature_start = 0.1\n",
    "sc.system.temperature_stop = 1.5\n",
    "sc.system.temperature_steps = 15\n",
    "\n",
    "sc.system.density_start = 0.1\n",
    "sc.system.density_stop = 1.5\n",
    "sc.system.density_steps = 15\n",
    "\n",
    "sc.system.particle_count = 500\n",
    "\n",
    "sc.templates.directory = 'data/T_{temperature:f}/d_{density:f}'\n",
    "\n",
    "sc.equilibration.tolerance = 0.05\n",
    "sc.equilibration.sample_size = 200\n",
    "sc.equilibration.adjustment_interval = 200\n",
    "sc.equilibration.steady_state_time = 5000\n",
    "sc.equilibration.timeout = 75000\n",
    "\n",
    "sc.observation.tolerance = 0.10\n",
    "sc.observation.sample_size = 200\n",
    "sc.observation.observation_interval = 200\n",
    "sc.observation.observation_count = 20\n",
    "\n",
    "sc.write('sweep.ini')"
   ]
  },
  {
   "cell_type": "code",
   "execution_count": 35,
   "metadata": {},
   "outputs": [
    {
     "name": "stdout",
     "output_type": "stream",
     "text": [
      "================= Lennard-Jones Sweep Simulation ==================\n",
      "\n",
      "Temperature: 15 points in the range [0.1, 1.5]\n",
      "Density: 15 points in the range [0.1, 1.5]\n",
      "\n",
      "Number of Particles: 500\n",
      "Time Step: 0.005\n",
      "\n",
      "Running 225 jobs over 12 threads\n",
      "\n",
      "Begin simulation sweep...\n",
      "Jobs queued: 0, Running: 0, Completed: 225                \n",
      "End simulation sweep\n",
      "\n",
      "Job status:\n",
      "Completed: 224\n",
      "Aborted during Equilibration: 0\n",
      "Aborted during Observation: 1\n",
      "\n",
      "3166800 time steps computed using 12 threads in 425.470 seconds\n",
      "0.002 thread-seconds per step, or 1.612 milliseconds\n",
      "Average framerate per thread: 620.256 fps\n"
     ]
    }
   ],
   "source": [
    "result = lj.run_sweep(\n",
    "    'sweep.ini',\n",
    "    thread_count=12,\n",
    "    random_seed=lj.SeedGenerator().get\n",
    ")"
   ]
  },
  {
   "cell_type": "code",
   "execution_count": 36,
   "metadata": {},
   "outputs": [
    {
     "data": {
      "text/plain": [
       "[13]"
      ]
     },
     "execution_count": 36,
     "metadata": {},
     "output_type": "execute_result"
    }
   ],
   "source": [
    "\n",
    "[len(entry.event_data.observations_recorded) for entry in result.observation_aborted]"
   ]
  },
  {
   "cell_type": "code",
   "execution_count": 11,
   "metadata": {},
   "outputs": [
    {
     "name": "stdout",
     "output_type": "stream",
     "text": [
      "441M\tdata\n"
     ]
    }
   ],
   "source": [
    "import os\n",
    "_ = os.system('du -sh data')"
   ]
  },
  {
   "cell_type": "code",
   "execution_count": null,
   "metadata": {},
   "outputs": [],
   "source": []
  }
 ],
 "metadata": {
  "interpreter": {
   "hash": "3226e81e891c9dc927601569adef93bbe0c99db6160ab9c266a9636799c8ecb1"
  },
  "kernelspec": {
   "display_name": "Python 3.9.7 ('.venv-conda': venv)",
   "language": "python",
   "name": "python3"
  },
  "language_info": {
   "codemirror_mode": {
    "name": "ipython",
    "version": 3
   },
   "file_extension": ".py",
   "mimetype": "text/x-python",
   "name": "python",
   "nbconvert_exporter": "python",
   "pygments_lexer": "ipython3",
   "version": "3.9.7"
  },
  "orig_nbformat": 4
 },
 "nbformat": 4,
 "nbformat_minor": 2
}

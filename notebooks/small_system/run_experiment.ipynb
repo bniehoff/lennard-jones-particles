{
 "cells": [
  {
   "cell_type": "code",
   "execution_count": 1,
   "metadata": {},
   "outputs": [],
   "source": [
    "import lennardjonesium as lj"
   ]
  },
  {
   "cell_type": "code",
   "execution_count": 22,
   "metadata": {},
   "outputs": [],
   "source": [
    "sc = lj.SweepConfiguration()\n",
    "\n",
    "sc.system.temperature_start = 0.1\n",
    "sc.system.temperature_stop = 2.0\n",
    "sc.system.temperature_steps = 20\n",
    "\n",
    "sc.system.density_start = 0.1\n",
    "sc.system.density_stop = 1.4\n",
    "sc.system.density_steps = 27\n",
    "\n",
    "sc.system.particle_count = 500\n",
    "sc.system.cutoff_distance = 2.0\n",
    "\n",
    "sc.templates.directory = 'data/T_{temperature:f}/d_{density:f}'\n",
    "\n",
    "sc.equilibration.tolerance = 0.05\n",
    "sc.equilibration.sample_size = 200\n",
    "sc.equilibration.adjustment_interval = 200\n",
    "sc.equilibration.steady_state_time = 5000\n",
    "sc.equilibration.timeout = 75000\n",
    "\n",
    "sc.observation.tolerance = 0.10\n",
    "sc.observation.sample_size = 200\n",
    "sc.observation.observation_interval = 200\n",
    "sc.observation.observation_count = 20\n",
    "\n",
    "sc.write('sweep.ini')"
   ]
  },
  {
   "cell_type": "code",
   "execution_count": 23,
   "metadata": {},
   "outputs": [
    {
     "name": "stdout",
     "output_type": "stream",
     "text": [
      "================= Lennard-Jones Sweep Simulation ==================\n",
      "\n",
      "Temperature: 20 points in the range [0.1, 2.0]\n",
      "Density: 27 points in the range [0.1, 1.4]\n",
      "\n",
      "Number of Particles: 500\n",
      "Time Step: 0.005\n",
      "\n",
      "Running 540 jobs over 12 threads\n",
      "\n",
      "Begin simulation sweep...\n",
      "Jobs queued: 0, Running: 0, Completed: 540                \n",
      "End simulation sweep\n",
      "\n",
      "Job status:\n",
      "Completed: 538\n",
      "Aborted during Equilibration: 0\n",
      "Aborted during Observation: 2\n",
      "\n",
      "6622200 time steps computed using 12 threads in 421.975 seconds\n",
      "0.001 thread-seconds per step, or 0.765 milliseconds\n",
      "Average framerate per thread: 1307.779 fps\n"
     ]
    }
   ],
   "source": [
    "result = lj.run_sweep(\n",
    "    'sweep.ini',\n",
    "    thread_count=12,\n",
    "    random_seed=lj.SeedGenerator().get\n",
    ")"
   ]
  },
  {
   "cell_type": "code",
   "execution_count": 24,
   "metadata": {},
   "outputs": [
    {
     "data": {
      "text/plain": [
       "[16, 19]"
      ]
     },
     "execution_count": 24,
     "metadata": {},
     "output_type": "execute_result"
    }
   ],
   "source": [
    "# Check to see how many observations were obtained on the runs that aborted during observation\n",
    "[len(entry.event_data.observations_recorded) for entry in result.observation_aborted]"
   ]
  },
  {
   "cell_type": "code",
   "execution_count": 25,
   "metadata": {},
   "outputs": [
    {
     "name": "stdout",
     "output_type": "stream",
     "text": [
      "926M\tdata\n"
     ]
    }
   ],
   "source": [
    "import os\n",
    "_ = os.system('du -sh data')"
   ]
  },
  {
   "cell_type": "code",
   "execution_count": null,
   "metadata": {},
   "outputs": [],
   "source": []
  }
 ],
 "metadata": {
  "interpreter": {
   "hash": "3226e81e891c9dc927601569adef93bbe0c99db6160ab9c266a9636799c8ecb1"
  },
  "kernelspec": {
   "display_name": "Python 3.9.7 ('.venv-conda': venv)",
   "language": "python",
   "name": "python3"
  },
  "language_info": {
   "codemirror_mode": {
    "name": "ipython",
    "version": 3
   },
   "file_extension": ".py",
   "mimetype": "text/x-python",
   "name": "python",
   "nbconvert_exporter": "python",
   "pygments_lexer": "ipython3",
   "version": "3.9.7"
  },
  "orig_nbformat": 4
 },
 "nbformat": 4,
 "nbformat_minor": 2
}

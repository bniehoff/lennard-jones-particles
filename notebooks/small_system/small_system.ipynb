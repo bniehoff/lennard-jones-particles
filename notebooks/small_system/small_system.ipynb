{
 "cells": [
  {
   "cell_type": "markdown",
   "metadata": {},
   "source": [
    "# Small system sweep simulation\n",
    "\n",
    "Here we demo how to run a sweep simulation, using a small system of 500 particles.  We will show plots of the energy landscape versus density and temperature, and begin to get a glimpse of the phase diagram of Lennard-Jonesium.  Of course, for such a small system of particles, most features of the phase diagram will be rather indistinct."
   ]
  },
  {
   "cell_type": "markdown",
   "metadata": {},
   "source": [
    "## Running the simulation\n",
    "\n",
    "For running the actual simulation, the only dependency is the `lennardjones` package.  One could also use `numpy` as a source of random seeds, but `lennardjones` already exposes the C++ `std::random_device` seed generator, which is good enough for physics simulations."
   ]
  },
  {
   "cell_type": "code",
   "execution_count": null,
   "metadata": {},
   "outputs": [],
   "source": [
    "import lennardjonesium as lj"
   ]
  },
  {
   "cell_type": "markdown",
   "metadata": {},
   "source": [
    "### Setup\n",
    "\n",
    "First we create an `lj.SweepConfiguration` object.  This is a `dataclass` which has mostly the same information as `lj.Configuration`, with some slight differences:\n",
    "\n",
    "- In place of a temperature and density, we describe a *range* of temperatures and densities, using parameters similar to those used in `numpy.linspace()`.\n",
    "- There is no `random_seed` parameter, since random seeds are assigned individually to each run (at particular values of density and temperature).\n",
    "- There is a `templates` section where we can describe what the directory structure will look like.  Each simulation will run in its own directory and produce its own output files."
   ]
  },
  {
   "cell_type": "code",
   "execution_count": null,
   "metadata": {},
   "outputs": [],
   "source": [
    "sc = lj.SweepConfiguration()\n",
    "\n",
    "sc.system.temperature_start = 0.1\n",
    "sc.system.temperature_stop = 2.0\n",
    "sc.system.temperature_steps = 20\n",
    "\n",
    "sc.system.density_start = 0.1\n",
    "sc.system.density_stop = 1.4\n",
    "sc.system.density_steps = 27\n",
    "\n",
    "sc.system.particle_count = 500\n",
    "sc.system.cutoff_distance = 2.0\n",
    "\n",
    "sc.templates.directory = 'data/T_{temperature:f}/d_{density:f}'\n",
    "\n",
    "sc.equilibration.tolerance = 0.05\n",
    "sc.equilibration.sample_size = 200\n",
    "sc.equilibration.adjustment_interval = 200\n",
    "sc.equilibration.steady_state_time = 5000\n",
    "sc.equilibration.timeout = 75000\n",
    "\n",
    "sc.observation.tolerance = 0.10\n",
    "sc.observation.sample_size = 200\n",
    "sc.observation.observation_interval = 200\n",
    "sc.observation.observation_count = 20\n",
    "\n",
    "sc.write('sweep.ini')"
   ]
  },
  {
   "cell_type": "markdown",
   "metadata": {},
   "source": [
    "### Using the `run_sweep()` function\n",
    "\n",
    "Next, we load the `.ini` that was created, and start the simulation with `run_sweep()`.  This will automatically manage the creation of the whole directory tree of simulation results.  Each simulation will also get its own `run.ini` which can be (re)run with the `run()` function, if needed.\n",
    "\n",
    "The individual simulations can be run concurrently by choosing the `thread_count` value.  All of the multithreading happens from within the C++ library, so it is not limited by the Python global interpreter lock."
   ]
  },
  {
   "cell_type": "code",
   "execution_count": null,
   "metadata": {},
   "outputs": [],
   "source": [
    "result = lj.run_sweep(\n",
    "    'sweep.ini',\n",
    "    thread_count=12,\n",
    "    random_seed=lj.SeedGenerator().get\n",
    ")"
   ]
  },
  {
   "cell_type": "markdown",
   "metadata": {},
   "source": [
    "The two lines\n",
    "\n",
    "```\n",
    "Aborted during Equilibration: 0\n",
    "Aborted during Observation: 2\n",
    "```\n",
    "\n",
    "are important to note.  If a simulation was aborted during Equilibration, then it will not produce data and there will be a hole in our phase diagram.  It should be rerun, either with a different random seed or with different equilibration parameters, until it successfully equilibrates.\n",
    "\n",
    "If a simulation was aborted during the Observation phase, this means it drifted too far from equilibrium for observations to remain valid.  We can use the `result` returned from `run_sweep()` to investigate what actually happened.  As long as we produced *some* observation data, then this is probably ok.  If we are unsatisfied with the number of measurements taken, then we should try re-running the aborted simulations with a new random seed."
   ]
  },
  {
   "cell_type": "code",
   "execution_count": null,
   "metadata": {},
   "outputs": [],
   "source": [
    "# Check to see how many observations were obtained on the runs that aborted during observation\n",
    "[len(entry.event_data.observations_recorded) for entry in result.observation_aborted]"
   ]
  },
  {
   "cell_type": "markdown",
   "metadata": {},
   "source": [
    "Again we measure how much data was produced from the simulation sweep.  In this case, it is too much to reasonably upload to GitHub, so I have limited which results files will appear in the repository."
   ]
  },
  {
   "cell_type": "code",
   "execution_count": null,
   "metadata": {},
   "outputs": [],
   "source": [
    "import os\n",
    "_ = os.system('du -sh data')"
   ]
  },
  {
   "cell_type": "markdown",
   "metadata": {},
   "source": [
    "## Analysing the results\n",
    "\n",
    "First, let's import the necessary packages for analysis:"
   ]
  },
  {
   "cell_type": "code",
   "execution_count": null,
   "metadata": {},
   "outputs": [],
   "source": [
    "import pathlib\n",
    "\n",
    "import numpy as np\n",
    "import pandas as pd\n",
    "from mpl_toolkits import mplot3d\n",
    "pd.plotting.register_matplotlib_converters()\n",
    "import matplotlib.pyplot as plt\n",
    "import seaborn as sns\n",
    "\n",
    "import lennardjonesium as lj"
   ]
  },
  {
   "cell_type": "markdown",
   "metadata": {},
   "source": [
    "Next we collect all of the sweep observations into a `pandas.DataFrame`.  The `lj.SweepConfiguration` object provides methods for iterating over all of the simulation directories in order to find the data files.\n",
    "\n",
    "Given a sweep configuration `.ini` file, we can also re-read the `SweepResult` object that was originally returned by `run_sweep()`.  The constructor automatically visits all of the simulation directories and collects the same information to describe the overall success of the sweep.  This allows us to call `run_sweep()` once, and re-collect this data any time we'd like to do analysis."
   ]
  },
  {
   "cell_type": "code",
   "execution_count": null,
   "metadata": {},
   "outputs": [],
   "source": [
    "sweep_config_file = pathlib.Path('sweep.ini')\n",
    "sweep_config = lj.SweepConfiguration.from_file(sweep_config_file)\n",
    "sweep_result = lj.orchestration.SweepResult(sweep_config_file)"
   ]
  },
  {
   "cell_type": "markdown",
   "metadata": {},
   "source": [
    "Here we iterate over the results directories and collect the observation data.  We drop the `'TimeStep'` column, as we don't really care on which time step an observation was made.  Instead we will make plots vs density and temperature."
   ]
  },
  {
   "cell_type": "code",
   "execution_count": null,
   "metadata": {},
   "outputs": [],
   "source": [
    "observations = pd.DataFrame()\n",
    "for simulation_dir in sweep_config.simulation_dir_range():\n",
    "    run_config = lj.Configuration.from_file(simulation_dir / sweep_config.templates.run_config_file)\n",
    "    run_observations = pd.read_csv(\n",
    "        simulation_dir / run_config.filepaths.observation_log).drop(columns=['TimeStep'])\n",
    "    observations = pd.concat([observations, run_observations])"
   ]
  },
  {
   "cell_type": "markdown",
   "metadata": {},
   "source": [
    "### The energy landscape\n",
    "\n",
    "As our first figure, let's plot total energy vs density and temperature.  In principle this energy landscape lets us deduce everything about the phase structure of the Lennard-Jones substance."
   ]
  },
  {
   "cell_type": "code",
   "execution_count": null,
   "metadata": {},
   "outputs": [],
   "source": [
    "fig = plt.figure(figsize=(12, 12))\n",
    "ax = fig.add_subplot(projection='3d')\n",
    "\n",
    "\n",
    "ax.scatter3D(\n",
    "    observations['Density'],\n",
    "    observations['Temperature'],\n",
    "    observations['TotalEnergy'],\n",
    "    c=observations['TotalEnergy'],\n",
    "    cmap='hsv',\n",
    "    s=10\n",
    ")\n",
    "\n",
    "ax.set_xlabel('Density')\n",
    "ax.set_ylabel('Temperature')\n",
    "ax.set_zlabel('Energy')\n",
    "ax.azim = -60\n",
    "ax.elev = 10\n",
    "\n",
    "plt.title(\"Energy vs Density, Temperature\")\n",
    "plt.show()"
   ]
  },
  {
   "cell_type": "markdown",
   "metadata": {},
   "source": [
    "We see total energy as a function of density and temperature.  In the energy landscape, first order phase transitions correspond to discontinuous \"jumps\" in the energy across some line.  The height of the jump gives the latent heat associated with the phase transition.  Around density 0.8, we see something that looks a bit like a discontinuity, although at this level of detail it is quite hard to tell.\n",
    "\n",
    "Second-order phase transitions correspond to abrupt changes in *slope*, which are even harder to observe in such a small, noisy simulation.  However, you might see a few candidate locations, especially in the low-density, low-temperature regime."
   ]
  },
  {
   "cell_type": "code",
   "execution_count": null,
   "metadata": {},
   "outputs": [],
   "source": [
    "fig = plt.figure(figsize=(12, 12))\n",
    "ax = fig.add_subplot()\n",
    "\n",
    "ax.tripcolor(\n",
    "    observations['Density'],\n",
    "    observations['Temperature'],\n",
    "    observations['TotalEnergy'],\n",
    "    cmap='Spectral_r'\n",
    ")\n",
    "\n",
    "ax.set_xlabel('Density')\n",
    "ax.set_ylabel('Temperature')\n",
    "\n",
    "plt.title(\"Energy vs Density, Temperature\")\n",
    "plt.show()"
   ]
  },
  {
   "cell_type": "markdown",
   "metadata": {},
   "source": [
    "This is a top-down view of the energy landscape with color-coding for height.  It is a little easier to see some of the features here, although again, at this resolution, everything is fairly indistinct.\n",
    "\n",
    "In reality, true discontinuous \"jumps\" in the internal energy of a system can only happen in the thermodynamic limit (i.e., an infinite number of particles), so we should not be surprised that 500 particles are not quite enough to see such jumps clearly."
   ]
  },
  {
   "cell_type": "markdown",
   "metadata": {},
   "source": [
    "### Pressure"
   ]
  },
  {
   "cell_type": "code",
   "execution_count": null,
   "metadata": {},
   "outputs": [],
   "source": [
    "fig = plt.figure(figsize=(12, 12))\n",
    "ax = fig.add_subplot()\n",
    "\n",
    "ax.tripcolor(\n",
    "    observations['Density'],\n",
    "    observations['Temperature'],\n",
    "    observations['Pressure'],\n",
    "    cmap='Spectral_r'\n",
    ")\n",
    "\n",
    "ax.set_xlabel('Density')\n",
    "ax.set_ylabel('Temperature')\n",
    "\n",
    "plt.title(\"Pressure vs Density, Temperature\")\n",
    "plt.show()"
   ]
  },
  {
   "cell_type": "markdown",
   "metadata": {},
   "source": [
    "Here we plot pressure, over the same range of density and temperature.  There is not much interesting to see, the pressure increases to the right with increasing density.  It does look like there is some sort of feature around density 1.0 and temperature 1.0 where there is some sort of inflection point."
   ]
  },
  {
   "cell_type": "markdown",
   "metadata": {},
   "source": [
    "### Diffusivity\n",
    "\n",
    "The diffusivity is proportional to the slope of the mean square displacement over time, and it measures how quickly particles travel through a medium under Brownian motion."
   ]
  },
  {
   "cell_type": "code",
   "execution_count": null,
   "metadata": {},
   "outputs": [],
   "source": [
    "fig = plt.figure(figsize=(12, 12))\n",
    "ax = fig.add_subplot()\n",
    "\n",
    "ax.tripcolor(\n",
    "    observations['Density'],\n",
    "    observations['Temperature'],\n",
    "    observations['DiffusionCoefficient'],\n",
    "    cmap='Spectral_r'\n",
    ")\n",
    "\n",
    "ax.set_xlabel('Density')\n",
    "ax.set_ylabel('Temperature')\n",
    "\n",
    "plt.title(\"Diffusivity vs Density, Temperature\")\n",
    "plt.show()"
   ]
  },
  {
   "cell_type": "markdown",
   "metadata": {},
   "source": [
    "Here we see, as expected, the diffusivity increases with increasing temperature and decreasing density.  The plot is far too indistinct to tell if there are any features that align with the features we saw in the energy landscape.  In a way, this is disappointing, because we would like not only to find phase transitions, but to classify the phases on either side as solid or fluid, and diffusivity is the main measure of that.  We will see what turns up in higher-precision experiments with more particles."
   ]
  }
 ],
 "metadata": {
  "interpreter": {
   "hash": "3226e81e891c9dc927601569adef93bbe0c99db6160ab9c266a9636799c8ecb1"
  },
  "kernelspec": {
   "display_name": "Python 3.9.7 ('.venv-conda': venv)",
   "language": "python",
   "name": "python3"
  },
  "language_info": {
   "codemirror_mode": {
    "name": "ipython",
    "version": 3
   },
   "file_extension": ".py",
   "mimetype": "text/x-python",
   "name": "python",
   "nbconvert_exporter": "python",
   "pygments_lexer": "ipython3",
   "version": "3.9.7"
  },
  "orig_nbformat": 4
 },
 "nbformat": 4,
 "nbformat_minor": 2
}

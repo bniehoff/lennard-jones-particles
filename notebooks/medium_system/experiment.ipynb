{
 "cells": [
  {
   "cell_type": "markdown",
   "metadata": {},
   "source": [
    "# Medium-size system sweep\n",
    "\n",
    "This experiment simulates a 2000 particle system in a $30 \\times 30$ sweep over temperature values ranging from $0.1$ to $2.0$ and density values from $0.1$ to $1.4$.\n",
    "\n",
    "Overall, we need to run 900 individual simulations, each with 2000 particles.  The full experiment takes about 2.5 hours to run on my machine, so I've put the analysis in a separate notebook, so that it can be re-run easily once we have generated the simulation data."
   ]
  },
  {
   "cell_type": "code",
   "execution_count": 1,
   "metadata": {},
   "outputs": [],
   "source": [
    "import lennardjonesium as lj"
   ]
  },
  {
   "cell_type": "code",
   "execution_count": 7,
   "metadata": {},
   "outputs": [],
   "source": [
    "sc = lj.SweepConfiguration()\n",
    "\n",
    "sc.system.temperature_start = 0.1\n",
    "sc.system.temperature_stop = 2.0\n",
    "sc.system.temperature_steps = 30\n",
    "\n",
    "sc.system.density_start = 0.1\n",
    "sc.system.density_stop = 1.4\n",
    "sc.system.density_steps = 30\n",
    "\n",
    "sc.system.particle_count = 2000\n",
    "sc.system.cutoff_distance = 2.5\n",
    "\n",
    "sc.templates.directory = 'data/T_{temperature:f}/d_{density:f}'\n",
    "\n",
    "sc.equilibration.tolerance = 0.02\n",
    "sc.equilibration.sample_size = 500\n",
    "sc.equilibration.adjustment_interval = 500\n",
    "sc.equilibration.steady_state_time = 5000\n",
    "sc.equilibration.timeout = 150000\n",
    "\n",
    "sc.observation.tolerance = 0.08\n",
    "sc.observation.sample_size = 1000\n",
    "sc.observation.observation_interval = 1000\n",
    "sc.observation.observation_count = 10\n",
    "\n",
    "sc.write('sweep.ini')"
   ]
  },
  {
   "cell_type": "code",
   "execution_count": 8,
   "metadata": {},
   "outputs": [
    {
     "name": "stdout",
     "output_type": "stream",
     "text": [
      "================= Lennard-Jones Sweep Simulation ==================\n",
      "\n",
      "Temperature: 30 points in the range [0.1, 2.0]\n",
      "Density: 30 points in the range [0.1, 1.4]\n",
      "\n",
      "Number of Particles: 2000\n",
      "Time Step: 0.005\n",
      "\n",
      "Chunk index: 0, Chunk count: 1\n",
      "Running 900 jobs over 12 threads\n",
      "\n",
      "Begin simulation sweep...\n",
      "Jobs queued: 0, Running: 0, Completed: 900                \n",
      "End simulation sweep\n",
      "\n",
      "Job status:\n",
      "Completed: 897\n",
      "Aborted during Equilibration: 0\n",
      "Aborted during Observation: 3\n",
      "\n",
      "19927500 time steps computed using 12 threads in 8741.205 seconds\n",
      "0.005 thread-seconds per step, or 5.264 milliseconds\n",
      "Average framerate per thread: 189.977 fps\n"
     ]
    }
   ],
   "source": [
    "result = lj.run_sweep(\n",
    "    'sweep.ini',\n",
    "    thread_count=12,\n",
    "    random_seed=lj.SeedGenerator().get,\n",
    ")"
   ]
  },
  {
   "cell_type": "code",
   "execution_count": 9,
   "metadata": {},
   "outputs": [
    {
     "data": {
      "text/plain": [
       "[9, 8, 6]"
      ]
     },
     "execution_count": 9,
     "metadata": {},
     "output_type": "execute_result"
    }
   ],
   "source": [
    "# Check to see how many observations were obtained on the runs that aborted during observation\n",
    "[len(entry.event_data.observations_recorded) for entry in result.observation_aborted]"
   ]
  },
  {
   "cell_type": "code",
   "execution_count": 10,
   "metadata": {},
   "outputs": [
    {
     "name": "stdout",
     "output_type": "stream",
     "text": [
      "2.9G\tdata\n"
     ]
    }
   ],
   "source": [
    "import os\n",
    "_ = os.system('du -sh data')"
   ]
  },
  {
   "cell_type": "markdown",
   "metadata": {},
   "source": [
    "This time, the data directory is much to large.  We will exclude it entirely from `git`."
   ]
  }
 ],
 "metadata": {
  "interpreter": {
   "hash": "3226e81e891c9dc927601569adef93bbe0c99db6160ab9c266a9636799c8ecb1"
  },
  "kernelspec": {
   "display_name": "Python 3.9.7 ('.venv-conda': venv)",
   "language": "python",
   "name": "python3"
  },
  "language_info": {
   "codemirror_mode": {
    "name": "ipython",
    "version": 3
   },
   "file_extension": ".py",
   "mimetype": "text/x-python",
   "name": "python",
   "nbconvert_exporter": "python",
   "pygments_lexer": "ipython3",
   "version": "3.9.7"
  },
  "orig_nbformat": 4
 },
 "nbformat": 4,
 "nbformat_minor": 2
}

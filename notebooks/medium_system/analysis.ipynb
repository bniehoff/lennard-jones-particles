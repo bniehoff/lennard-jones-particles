{
 "cells": [
  {
   "cell_type": "markdown",
   "metadata": {},
   "source": [
    "# Medium-size system: Analysis\n",
    "\n",
    "Here we collect the results of the sweep simulation with 2000 particles."
   ]
  },
  {
   "cell_type": "markdown",
   "metadata": {},
   "source": [
    "### Setup"
   ]
  },
  {
   "cell_type": "code",
   "execution_count": null,
   "metadata": {},
   "outputs": [],
   "source": [
    "import pathlib\n",
    "\n",
    "import numpy as np\n",
    "import pandas as pd\n",
    "from mpl_toolkits import mplot3d\n",
    "pd.plotting.register_matplotlib_converters()\n",
    "import matplotlib.pyplot as plt\n",
    "import seaborn as sns\n",
    "\n",
    "import lennardjonesium as lj"
   ]
  },
  {
   "cell_type": "code",
   "execution_count": null,
   "metadata": {},
   "outputs": [],
   "source": [
    "chunk_count = 1\n",
    "chunk_index = 0\n",
    "\n",
    "sweep_config_file = pathlib.Path('sweep.ini')\n",
    "sweep_config = lj.SweepConfiguration.from_file(sweep_config_file)\n",
    "sweep_result = lj.orchestration.SweepResult(sweep_config_file, chunk_count, chunk_index)"
   ]
  },
  {
   "cell_type": "code",
   "execution_count": null,
   "metadata": {},
   "outputs": [],
   "source": [
    "observations = pd.DataFrame()\n",
    "for simulation_dir in sweep_config.simulation_dir_range(chunk_count, chunk_index):\n",
    "    run_config = lj.Configuration.from_file(simulation_dir / sweep_config.templates.run_config_file)\n",
    "    run_observations = pd.read_csv(\n",
    "        simulation_dir / run_config.filepaths.observation_log).drop(columns=['TimeStep'])\n",
    "    observations = pd.concat([observations, run_observations])"
   ]
  },
  {
   "cell_type": "markdown",
   "metadata": {},
   "source": [
    "## Observations"
   ]
  },
  {
   "cell_type": "markdown",
   "metadata": {},
   "source": [
    "### Energy landscape"
   ]
  },
  {
   "cell_type": "code",
   "execution_count": null,
   "metadata": {},
   "outputs": [],
   "source": [
    "fig = plt.figure(figsize=(12, 12))\n",
    "ax = fig.add_subplot(projection='3d')\n",
    "\n",
    "\n",
    "ax.scatter3D(\n",
    "    observations['Density'],\n",
    "    observations['Temperature'],\n",
    "    observations['TotalEnergy'],\n",
    "    c=observations['TotalEnergy'],\n",
    "    cmap='hsv',\n",
    "    s=10\n",
    ")\n",
    "\n",
    "ax.set_xlabel('Density')\n",
    "ax.set_ylabel('Temperature')\n",
    "ax.set_zlabel('Energy')\n",
    "ax.azim = -70\n",
    "ax.elev = 10\n",
    "\n",
    "plt.title(\"Energy vs Density, Temperature\")\n",
    "plt.show()"
   ]
  },
  {
   "cell_type": "markdown",
   "metadata": {},
   "source": [
    "We can see a bit more detail, thanks to the greater resolution (30x30 vs 20x27), as well as the greater precision one gets when using a larger number of particles.  There appears to be a distinct, sharp cliff running from density 0.6 at low temperatures, up through density 1.0 at high temperatures.  It appears that there may also be a curved second-order phase transition line that meets this cliff in a triple point near density 0.8, temperature 0.5."
   ]
  },
  {
   "cell_type": "code",
   "execution_count": null,
   "metadata": {},
   "outputs": [],
   "source": [
    "fig = plt.figure(figsize=(12, 12))\n",
    "ax = fig.add_subplot()\n",
    "\n",
    "ax.tripcolor(\n",
    "    observations['Density'],\n",
    "    observations['Temperature'],\n",
    "    observations['TotalEnergy'],\n",
    "    cmap='Spectral_r'\n",
    ")\n",
    "\n",
    "ax.set_xlabel('Density')\n",
    "ax.set_ylabel('Temperature')\n",
    "\n",
    "plt.title(\"Energy vs Density, Temperature\")\n",
    "plt.show()"
   ]
  },
  {
   "cell_type": "markdown",
   "metadata": {},
   "source": [
    "The colormap version of the plot shows these features a bit more clearly.  It appears there may also be a horizontal cliff in the lower left, for densities less than 0.7 and temperature around 0.3."
   ]
  },
  {
   "cell_type": "markdown",
   "metadata": {},
   "source": [
    "### Pressure"
   ]
  },
  {
   "cell_type": "code",
   "execution_count": null,
   "metadata": {},
   "outputs": [],
   "source": [
    "fig = plt.figure(figsize=(12, 12))\n",
    "ax = fig.add_subplot()\n",
    "\n",
    "ax.tripcolor(\n",
    "    observations['Density'],\n",
    "    observations['Temperature'],\n",
    "    observations['Pressure'],\n",
    "    cmap='Spectral_r'\n",
    ")\n",
    "\n",
    "ax.set_xlabel('Density')\n",
    "ax.set_ylabel('Temperature')\n",
    "\n",
    "plt.title(\"Pressure vs Density, Temperature\")\n",
    "plt.show()"
   ]
  },
  {
   "cell_type": "markdown",
   "metadata": {},
   "source": [
    "We observed in the Small System simulation that there may be some interesting inflection point around density 1.0.  Here we can see it in more detail, although it is still a bit unclear what exactly is going on."
   ]
  },
  {
   "cell_type": "markdown",
   "metadata": {},
   "source": [
    "### Diffusivity"
   ]
  },
  {
   "cell_type": "code",
   "execution_count": null,
   "metadata": {},
   "outputs": [],
   "source": [
    "fig = plt.figure(figsize=(12, 12))\n",
    "ax = fig.add_subplot()\n",
    "\n",
    "ax.tripcolor(\n",
    "    observations['Density'],\n",
    "    observations['Temperature'],\n",
    "    observations['DiffusionCoefficient'],\n",
    "    cmap='Spectral_r'\n",
    ")\n",
    "\n",
    "ax.set_xlabel('Density')\n",
    "ax.set_ylabel('Temperature')\n",
    "\n",
    "plt.title(\"Diffusivity vs Density, Temperature\")\n",
    "plt.show()"
   ]
  },
  {
   "cell_type": "markdown",
   "metadata": {},
   "source": [
    "The diffusivity plot is still a bit difficult to make out.  It appears there is a lot of noise in this particular measurement.  We would like to see features that correspond in some way to the structure we have observed in the energy plot."
   ]
  },
  {
   "cell_type": "markdown",
   "metadata": {},
   "source": [
    "## Phase transitions via final state visualization\n",
    "\n",
    "Next we will investigate a few specific points in the phase diagram to learn what phase is likely there.\n",
    "\n",
    "Density 0.6 looks interesting.  Let's choose some points at this density and look above and below the conjectured phase transition line to see if there is anything interesting here."
   ]
  },
  {
   "cell_type": "markdown",
   "metadata": {},
   "source": [
    "### Density 0.6, temperature 1.0"
   ]
  },
  {
   "cell_type": "code",
   "execution_count": null,
   "metadata": {},
   "outputs": [],
   "source": [
    "snapshot_data_d06_T10 = pd.read_csv('data/T_1.017241/d_0.593103/snapshots.csv', header=[0,1])\n",
    "fig = plt.figure(figsize=(12, 12))\n",
    "ax = fig.add_subplot(projection='3d')\n",
    "\n",
    "ax.scatter3D(\n",
    "    snapshot_data_d06_T10[('Position', 'X')],\n",
    "    snapshot_data_d06_T10[('Position', 'Y')],\n",
    "    snapshot_data_d06_T10[('Position', 'Z')],\n",
    "    c=snapshot_data_d06_T10[('Position', 'Z')],\n",
    "    cmap='hsv',\n",
    "    s=7\n",
    ")\n",
    "\n",
    "plt.title(\"Particles at d=0.6, T=1.0\")\n",
    "plt.show()"
   ]
  },
  {
   "cell_type": "markdown",
   "metadata": {},
   "source": [
    "Above we see the final positions of the particles for density 0.6 and temperature 1.0.  The particles look quite randomly distributed, so we conclude that this high-temperature phase is a fluid, as we might expect."
   ]
  },
  {
   "cell_type": "markdown",
   "metadata": {},
   "source": [
    "### Density 0.6, temperature 0.36"
   ]
  },
  {
   "cell_type": "code",
   "execution_count": null,
   "metadata": {},
   "outputs": [],
   "source": [
    "snapshot_data_d06_T036 = pd.read_csv('data/T_0.362069/d_0.593103/snapshots.csv', header=[0,1])\n",
    "fig = plt.figure(figsize=(12, 12))\n",
    "ax = fig.add_subplot(projection='3d')\n",
    "\n",
    "ax.scatter3D(\n",
    "    snapshot_data_d06_T036[('Position', 'X')],\n",
    "    snapshot_data_d06_T036[('Position', 'Y')],\n",
    "    snapshot_data_d06_T036[('Position', 'Z')],\n",
    "    c=snapshot_data_d06_T036[('Position', 'Z')],\n",
    "    cmap='hsv',\n",
    "    s=7\n",
    ")\n",
    "\n",
    "plt.title(\"Particles at d=0.6, T=0.36\")\n",
    "plt.show()"
   ]
  },
  {
   "cell_type": "markdown",
   "metadata": {},
   "source": [
    "Here we see the final particle positions for density 0.6 and temperature 0.36.  This puts us slightly the horizontal \"shelf\" we have observed in the energy plot.  The particles appear randomly distributed, but there are holes, so they do not fill all of the available space.  From this picture alone, I would conclude we are in a liquid state, but it would be wise to check the mean square displacement."
   ]
  },
  {
   "cell_type": "code",
   "execution_count": null,
   "metadata": {},
   "outputs": [],
   "source": [
    "thermoynamic_data_d06_T036 = pd.read_csv('data/T_0.362069/d_0.593103/thermodynamics.csv')\n",
    "\n",
    "plt.figure(figsize=(16,6))\n",
    "plt.title(\"Mean Square Displacement vs time\")\n",
    "sns.lineplot(data=thermoynamic_data_d06_T036['MeanSquareDisplacement'])\n",
    "\n",
    "plt.title(\"Mean Square Displacement vs Time at d=0.6, T=0.36\")\n",
    "plt.show()"
   ]
  },
  {
   "cell_type": "markdown",
   "metadata": {},
   "source": [
    "The mean square displacement is certainly increasing linearly, so I believe the \"liquid\" conclusion is correct."
   ]
  },
  {
   "cell_type": "markdown",
   "metadata": {},
   "source": [
    "### Density 0.6, temperature 0.17"
   ]
  },
  {
   "cell_type": "code",
   "execution_count": null,
   "metadata": {},
   "outputs": [],
   "source": [
    "snapshot_data_fluid = pd.read_csv('data/T_0.165517/d_0.593103/snapshots.csv', header=[0,1])\n",
    "fig = plt.figure(figsize=(12, 12))\n",
    "ax = fig.add_subplot(projection='3d')\n",
    "\n",
    "ax.scatter3D(\n",
    "    snapshot_data_fluid[('Position', 'X')],\n",
    "    snapshot_data_fluid[('Position', 'Y')],\n",
    "    snapshot_data_fluid[('Position', 'Z')],\n",
    "    c=snapshot_data_fluid[('Position', 'Z')],\n",
    "    cmap='hsv',\n",
    "    s=7\n",
    ")\n",
    "\n",
    "plt.title(\"Particles at d=0.6, T=0.17\")\n",
    "plt.show()"
   ]
  },
  {
   "cell_type": "markdown",
   "metadata": {},
   "source": [
    "Here we see the final particle positions for density 0.6 and temperature 0.17.  This puts *below* the horizontal \"shelf\" we have observed in the energy plot.  The particles are clearly arranged in a crystalline structure, so this is a solid state.  Therefore we conclude that the \"shelf\" line is a freezing/melting phase transition."
   ]
  }
 ],
 "metadata": {
  "interpreter": {
   "hash": "3226e81e891c9dc927601569adef93bbe0c99db6160ab9c266a9636799c8ecb1"
  },
  "kernelspec": {
   "display_name": "Python 3.9.7 ('.venv-conda': venv)",
   "language": "python",
   "name": "python3"
  },
  "language_info": {
   "codemirror_mode": {
    "name": "ipython",
    "version": 3
   },
   "file_extension": ".py",
   "mimetype": "text/x-python",
   "name": "python",
   "nbconvert_exporter": "python",
   "pygments_lexer": "ipython3",
   "version": "3.9.7"
  },
  "orig_nbformat": 4
 },
 "nbformat": 4,
 "nbformat_minor": 2
}

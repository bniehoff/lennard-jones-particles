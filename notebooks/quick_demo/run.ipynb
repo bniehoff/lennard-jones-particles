{
 "cells": [
  {
   "cell_type": "code",
   "execution_count": 1,
   "metadata": {},
   "outputs": [],
   "source": [
    "import lennardjonesium as lj"
   ]
  },
  {
   "cell_type": "code",
   "execution_count": 6,
   "metadata": {},
   "outputs": [],
   "source": [
    "c = lj.Configuration()\n",
    "\n",
    "c.system.temperature = 0.7\n",
    "c.system.density = 0.7\n",
    "c.system.particle_count = 500\n",
    "\n",
    "c.equilibration.tolerance = 0.10\n",
    "c.equilibration.sample_size = 50\n",
    "c.equilibration.adjustment_interval = 100\n",
    "c.equilibration.steady_state_time = 1000\n",
    "c.equilibration.timeout = 2000\n",
    "\n",
    "c.observation.tolerance = 0.20\n",
    "c.observation.sample_size = 50\n",
    "c.observation.observation_interval = 100\n",
    "c.observation.observation_count = 10\n",
    "\n",
    "c.filepaths.event_log = 'events.log'\n",
    "c.filepaths.thermodynamic_log = 'thermodynamics.csv'\n",
    "c.filepaths.observation_log = 'observations.csv'\n",
    "c.filepaths.snapshot_log = 'snapshots.csv'\n",
    "\n",
    "c.write('data/run.ini')"
   ]
  },
  {
   "cell_type": "code",
   "execution_count": 7,
   "metadata": {},
   "outputs": [
    {
     "name": "stdout",
     "output_type": "stream",
     "text": [
      "==================== Lennard-Jones Simulation ====================\n",
      "\n",
      "Temperature: 0.7\n",
      "Density: 0.7\n",
      "Number of Particles: 500\n",
      "Time Step: 0.005\n",
      "Random Seed: 4138288743\n",
      "\n",
      "Simulation will run in 2 phases:\n",
      "Phase 1: Equilibration Phase\n",
      "Phase 2: Observation Phase\n",
      "\n",
      "Results to be output to the following files:\n",
      "Events: events.log\n",
      "Thermodynamics: thermodynamics.csv\n",
      "Observations: observations.csv\n",
      "Snapshots: snapshots.csv\n",
      "\n",
      "Begin simulation...\n",
      "0: Phase started: Equilibration Phase\n",
      "100: Temperature measured at: 0.467, adjusted to: 0.7\n",
      "200: Temperature measured at: 0.6079, adjusted to: 0.7\n",
      "1200: Phase complete: Equilibration Phase\n",
      "1200: Phase started: Observation Phase\n",
      "1300: Observation recorded\n",
      "1400: Observation recorded\n",
      "1500: Observation recorded\n",
      "1600: Observation recorded\n",
      "1700: Observation recorded\n",
      "1800: Observation recorded\n",
      "1900: Observation recorded\n",
      "2000: Observation recorded\n",
      "2100: Observation recorded\n",
      "2200: Observation recorded\n",
      "2200: Phase complete: Observation Phase\n",
      "End simulation\n",
      "\n",
      "2200 time steps computed in 2.559 seconds\n",
      "0.001 seconds per step, or 1.163 milliseconds\n",
      "Framerate: 859.802 fps\n"
     ]
    }
   ],
   "source": [
    "result = lj.run('data/run.ini', random_seed=lj.SeedGenerator().get)"
   ]
  },
  {
   "cell_type": "code",
   "execution_count": 8,
   "metadata": {},
   "outputs": [
    {
     "name": "stdout",
     "output_type": "stream",
     "text": [
      "400K\tdata\n"
     ]
    }
   ],
   "source": [
    "import os\n",
    "_ = os.system('du -sh data')"
   ]
  },
  {
   "cell_type": "code",
   "execution_count": null,
   "metadata": {},
   "outputs": [],
   "source": []
  }
 ],
 "metadata": {
  "interpreter": {
   "hash": "3226e81e891c9dc927601569adef93bbe0c99db6160ab9c266a9636799c8ecb1"
  },
  "kernelspec": {
   "display_name": "Python 3.9.7 ('.venv-conda': venv)",
   "language": "python",
   "name": "python3"
  },
  "language_info": {
   "codemirror_mode": {
    "name": "ipython",
    "version": 3
   },
   "file_extension": ".py",
   "mimetype": "text/x-python",
   "name": "python",
   "nbconvert_exporter": "python",
   "pygments_lexer": "ipython3",
   "version": "3.9.7"
  },
  "orig_nbformat": 4
 },
 "nbformat": 4,
 "nbformat_minor": 2
}
